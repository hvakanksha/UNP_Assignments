{
  "nbformat": 4,
  "nbformat_minor": 0,
  "metadata": {
    "colab": {
      "name": "Assignment_2",
      "provenance": []
    },
    "kernelspec": {
      "name": "python3",
      "display_name": "Python 3"
    },
    "language_info": {
      "name": "python"
    }
  },
  "cells": [
    {
      "cell_type": "markdown",
      "source": [
        "\n",
        "\n",
        "This is your assignment on conditional statement and looping\n",
        "\n",
        "Problem-1\n",
        "\n",
        "Write a small program to check a number is divisible by 7 or not\n"
      ],
      "metadata": {
        "id": "TE5GxUJGvpuf"
      }
    },
    {
      "cell_type": "code",
      "source": [
        "# Your code goes here\n",
        "num =int(input('Enter any Number'))\n",
        "\n",
        "if num%7==0:\n",
        "  print('The Number is Divisible by 7')\n",
        "else:\n",
        "  print('The Number is not Divisible by 7')"
      ],
      "metadata": {
        "colab": {
          "base_uri": "https://localhost:8080/"
        },
        "id": "s-jQAnYvvwVZ",
        "outputId": "187b3f36-6810-4194-dd1a-e0ec6accb3fb"
      },
      "execution_count": 1,
      "outputs": [
        {
          "output_type": "stream",
          "name": "stdout",
          "text": [
            "Enter any Number21\n",
            "The Number is Divisible by 7\n"
          ]
        }
      ]
    },
    {
      "cell_type": "markdown",
      "source": [
        "Problem-2\n",
        "\n",
        "If a number is divisible by either 5 or 7, then we will call it a 'five-or-seven' number.\n",
        "Write down a program to check if a number is 'five-or-seven' number or not."
      ],
      "metadata": {
        "id": "hgS4JU1hwDQt"
      }
    },
    {
      "cell_type": "code",
      "source": [
        "# Your code goes here\n",
        "num =int(input('Enter any Number'))\n",
        "\n",
        "if num%7==0 or num%5==0:\n",
        "  print('The Number is Divisible by 7 or 5')\n",
        "else:\n",
        "  print('The Number is not Divisible by 7 or 5')"
      ],
      "metadata": {
        "colab": {
          "base_uri": "https://localhost:8080/"
        },
        "id": "5T3grpDev3hX",
        "outputId": "5a925a6f-393e-4d0c-9c17-9943fffe5b0d"
      },
      "execution_count": 2,
      "outputs": [
        {
          "output_type": "stream",
          "name": "stdout",
          "text": [
            "Enter any Number50\n",
            "The Number is Divisible by 7 or 5\n"
          ]
        }
      ]
    },
    {
      "cell_type": "markdown",
      "source": [
        "Problem-3\n",
        "\n",
        "Write a program to calculate the electricity bill (accept number of unit from user) according to the following criteria:\n",
        "\n",
        "Upto first 100 units Rs. 3 per unit.\n",
        "Next 100 units Rs. 5 per unit.\n",
        "Next 300 units Rs. 7 per unit.\n",
        "Above that, for each unit exceeding 500, Rs. 10 per unit flat."
      ],
      "metadata": {
        "id": "pQki9mLDwQ8v"
      }
    },
    {
      "cell_type": "code",
      "source": [
        "# Your code goes here\n",
        "no_of_units = int(input('Enter number of units consumed'))\n",
        "\n",
        "if no_of_units<100:\n",
        "  cost = 3*no_of_units\n",
        "elif no_of_units>=100 and no_of_units<300:\n",
        "  cost = 5*no_of_units\n",
        "elif no_of_units>=300 and no_of_units<500:\n",
        "  cost = 7*no_of_units\n",
        "else:\n",
        "  cost = 10*no_of_units\n",
        "\n",
        "print('The Total Cost is', cost)"
      ],
      "metadata": {
        "colab": {
          "base_uri": "https://localhost:8080/"
        },
        "id": "3yT-fVImwSu4",
        "outputId": "4c958d6d-f49e-45bd-9ba1-39d223821f72"
      },
      "execution_count": 3,
      "outputs": [
        {
          "output_type": "stream",
          "name": "stdout",
          "text": [
            "Enter number of units consumed350\n",
            "The Total Cost is 2450\n"
          ]
        }
      ]
    },
    {
      "cell_type": "markdown",
      "source": [
        "Problem-4\n",
        "\n",
        "Find out sum of square of all the numbers upto 10, starting from 1"
      ],
      "metadata": {
        "id": "bKasX-L0wcwn"
      }
    },
    {
      "cell_type": "code",
      "source": [
        "# Your code goes here\n",
        "sum=0\n",
        "for i in range(1,11):\n",
        "  sum = sum + (i*i)\n",
        "\n",
        "print('', sum)"
      ],
      "metadata": {
        "colab": {
          "base_uri": "https://localhost:8080/"
        },
        "id": "c4oP68a5whvF",
        "outputId": "9b7066be-5d08-41a7-e2e3-f18de28a8191"
      },
      "execution_count": 4,
      "outputs": [
        {
          "output_type": "stream",
          "name": "stdout",
          "text": [
            " 385\n"
          ]
        }
      ]
    },
    {
      "cell_type": "markdown",
      "source": [
        "Problem-5\n",
        "\n",
        "Find out sum of square of all the even numbers upto 10, starting from 1"
      ],
      "metadata": {
        "id": "xr7bJsiHwqDH"
      }
    },
    {
      "cell_type": "code",
      "source": [
        "# Your code goes here\n",
        "sum=0\n",
        "for i in range(1,11):\n",
        "  if i%2==0:\n",
        "    sum = sum + (i*i)\n",
        "  else:\n",
        "    continue\n",
        "print('', sum)"
      ],
      "metadata": {
        "colab": {
          "base_uri": "https://localhost:8080/"
        },
        "id": "dCGASmmmwr0Q",
        "outputId": "00660832-eab1-4cb4-dd88-50ce93e1a148"
      },
      "execution_count": 5,
      "outputs": [
        {
          "output_type": "stream",
          "name": "stdout",
          "text": [
            " 220\n"
          ]
        }
      ]
    },
    {
      "cell_type": "markdown",
      "source": [
        "Problem-6\n",
        "\n",
        "Check a number is prime or not"
      ],
      "metadata": {
        "id": "UebNsXzawz9u"
      }
    },
    {
      "cell_type": "code",
      "source": [
        "# Your code goes here\n",
        "num = int(input(\"Enter any number: \"))\n",
        "\n",
        "if num > 1:\n",
        "    for i in range(2, num):\n",
        "        if (num % i) == 0:\n",
        "            print(num, \"is not a prime number\")\n",
        "            break\n",
        "    else:\n",
        "        print(num, \"is a prime number\")\n",
        "else:\n",
        "    print(num, \"is not a prime number\")"
      ],
      "metadata": {
        "colab": {
          "base_uri": "https://localhost:8080/"
        },
        "id": "K-xdtw5dw1t2",
        "outputId": "5dd69654-7a74-4b35-9c46-19e86e6fac01"
      },
      "execution_count": 6,
      "outputs": [
        {
          "output_type": "stream",
          "name": "stdout",
          "text": [
            "Enter any number: 11\n",
            "11 is a prime number\n"
          ]
        }
      ]
    },
    {
      "cell_type": "markdown",
      "source": [
        "Problem-7\n",
        "\n",
        "Print multiplication table upto 10 starting from 1"
      ],
      "metadata": {
        "id": "8CFM7lCBw-Fu"
      }
    },
    {
      "cell_type": "code",
      "source": [
        "# Your code goes here\n",
        "for i in range(1,11):\n",
        "  for j in range(1,11):\n",
        "    product = j*i\n",
        "    print(i, '*', j, '=',product)\n",
        "    print('\\t')\n",
        "print('\\n')"
      ],
      "metadata": {
        "colab": {
          "base_uri": "https://localhost:8080/"
        },
        "id": "2Fh9JmbVxBqO",
        "outputId": "ab8cfcbd-e525-4abb-9ea7-e2fba9a3127c"
      },
      "execution_count": 7,
      "outputs": [
        {
          "output_type": "stream",
          "name": "stdout",
          "text": [
            "1 * 1 = 1\n",
            "\t\n",
            "1 * 2 = 2\n",
            "\t\n",
            "1 * 3 = 3\n",
            "\t\n",
            "1 * 4 = 4\n",
            "\t\n",
            "1 * 5 = 5\n",
            "\t\n",
            "1 * 6 = 6\n",
            "\t\n",
            "1 * 7 = 7\n",
            "\t\n",
            "1 * 8 = 8\n",
            "\t\n",
            "1 * 9 = 9\n",
            "\t\n",
            "1 * 10 = 10\n",
            "\t\n",
            "2 * 1 = 2\n",
            "\t\n",
            "2 * 2 = 4\n",
            "\t\n",
            "2 * 3 = 6\n",
            "\t\n",
            "2 * 4 = 8\n",
            "\t\n",
            "2 * 5 = 10\n",
            "\t\n",
            "2 * 6 = 12\n",
            "\t\n",
            "2 * 7 = 14\n",
            "\t\n",
            "2 * 8 = 16\n",
            "\t\n",
            "2 * 9 = 18\n",
            "\t\n",
            "2 * 10 = 20\n",
            "\t\n",
            "3 * 1 = 3\n",
            "\t\n",
            "3 * 2 = 6\n",
            "\t\n",
            "3 * 3 = 9\n",
            "\t\n",
            "3 * 4 = 12\n",
            "\t\n",
            "3 * 5 = 15\n",
            "\t\n",
            "3 * 6 = 18\n",
            "\t\n",
            "3 * 7 = 21\n",
            "\t\n",
            "3 * 8 = 24\n",
            "\t\n",
            "3 * 9 = 27\n",
            "\t\n",
            "3 * 10 = 30\n",
            "\t\n",
            "4 * 1 = 4\n",
            "\t\n",
            "4 * 2 = 8\n",
            "\t\n",
            "4 * 3 = 12\n",
            "\t\n",
            "4 * 4 = 16\n",
            "\t\n",
            "4 * 5 = 20\n",
            "\t\n",
            "4 * 6 = 24\n",
            "\t\n",
            "4 * 7 = 28\n",
            "\t\n",
            "4 * 8 = 32\n",
            "\t\n",
            "4 * 9 = 36\n",
            "\t\n",
            "4 * 10 = 40\n",
            "\t\n",
            "5 * 1 = 5\n",
            "\t\n",
            "5 * 2 = 10\n",
            "\t\n",
            "5 * 3 = 15\n",
            "\t\n",
            "5 * 4 = 20\n",
            "\t\n",
            "5 * 5 = 25\n",
            "\t\n",
            "5 * 6 = 30\n",
            "\t\n",
            "5 * 7 = 35\n",
            "\t\n",
            "5 * 8 = 40\n",
            "\t\n",
            "5 * 9 = 45\n",
            "\t\n",
            "5 * 10 = 50\n",
            "\t\n",
            "6 * 1 = 6\n",
            "\t\n",
            "6 * 2 = 12\n",
            "\t\n",
            "6 * 3 = 18\n",
            "\t\n",
            "6 * 4 = 24\n",
            "\t\n",
            "6 * 5 = 30\n",
            "\t\n",
            "6 * 6 = 36\n",
            "\t\n",
            "6 * 7 = 42\n",
            "\t\n",
            "6 * 8 = 48\n",
            "\t\n",
            "6 * 9 = 54\n",
            "\t\n",
            "6 * 10 = 60\n",
            "\t\n",
            "7 * 1 = 7\n",
            "\t\n",
            "7 * 2 = 14\n",
            "\t\n",
            "7 * 3 = 21\n",
            "\t\n",
            "7 * 4 = 28\n",
            "\t\n",
            "7 * 5 = 35\n",
            "\t\n",
            "7 * 6 = 42\n",
            "\t\n",
            "7 * 7 = 49\n",
            "\t\n",
            "7 * 8 = 56\n",
            "\t\n",
            "7 * 9 = 63\n",
            "\t\n",
            "7 * 10 = 70\n",
            "\t\n",
            "8 * 1 = 8\n",
            "\t\n",
            "8 * 2 = 16\n",
            "\t\n",
            "8 * 3 = 24\n",
            "\t\n",
            "8 * 4 = 32\n",
            "\t\n",
            "8 * 5 = 40\n",
            "\t\n",
            "8 * 6 = 48\n",
            "\t\n",
            "8 * 7 = 56\n",
            "\t\n",
            "8 * 8 = 64\n",
            "\t\n",
            "8 * 9 = 72\n",
            "\t\n",
            "8 * 10 = 80\n",
            "\t\n",
            "9 * 1 = 9\n",
            "\t\n",
            "9 * 2 = 18\n",
            "\t\n",
            "9 * 3 = 27\n",
            "\t\n",
            "9 * 4 = 36\n",
            "\t\n",
            "9 * 5 = 45\n",
            "\t\n",
            "9 * 6 = 54\n",
            "\t\n",
            "9 * 7 = 63\n",
            "\t\n",
            "9 * 8 = 72\n",
            "\t\n",
            "9 * 9 = 81\n",
            "\t\n",
            "9 * 10 = 90\n",
            "\t\n",
            "10 * 1 = 10\n",
            "\t\n",
            "10 * 2 = 20\n",
            "\t\n",
            "10 * 3 = 30\n",
            "\t\n",
            "10 * 4 = 40\n",
            "\t\n",
            "10 * 5 = 50\n",
            "\t\n",
            "10 * 6 = 60\n",
            "\t\n",
            "10 * 7 = 70\n",
            "\t\n",
            "10 * 8 = 80\n",
            "\t\n",
            "10 * 9 = 90\n",
            "\t\n",
            "10 * 10 = 100\n",
            "\t\n",
            "\n",
            "\n"
          ]
        }
      ]
    },
    {
      "cell_type": "markdown",
      "source": [
        "Problem-8\n",
        "\n",
        "Print the series of first n fibonacci numbers"
      ],
      "metadata": {
        "id": "e9L6zpKGxFsP"
      }
    },
    {
      "cell_type": "code",
      "source": [
        "# Your code goes here\n",
        "n=int(input('Enter how many elements you want to print in the Fibonacci Series\\t'))\n",
        "a = 0\n",
        "b = 1\n",
        "if n == 1:\n",
        "  print(a)\n",
        "else:\n",
        "  print(a)\n",
        "  print(b)\n",
        "  for i in range(2,n):\n",
        "    c = a + b\n",
        "    a = b\n",
        "    b = c\n",
        "    print(c)"
      ],
      "metadata": {
        "colab": {
          "base_uri": "https://localhost:8080/"
        },
        "id": "mIxqNgsoxJg_",
        "outputId": "f76f658d-3e7d-4c3c-9f88-cb2871095850"
      },
      "execution_count": 9,
      "outputs": [
        {
          "output_type": "stream",
          "name": "stdout",
          "text": [
            "Enter how many elements you want to print in the Fibonacci Series\t10\n",
            "0\n",
            "1\n",
            "1\n",
            "2\n",
            "3\n",
            "5\n",
            "8\n",
            "13\n",
            "21\n",
            "34\n"
          ]
        }
      ]
    }
  ]
}