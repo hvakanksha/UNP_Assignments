{
  "nbformat": 4,
  "nbformat_minor": 0,
  "metadata": {
    "colab": {
      "name": "Assignment_1",
      "provenance": []
    },
    "kernelspec": {
      "name": "python3",
      "display_name": "Python 3"
    },
    "language_info": {
      "name": "python"
    }
  },
  "cells": [
    {
      "cell_type": "markdown",
      "source": [
        "\n",
        "\n",
        "Let's solve a few problems to sharpen your coding skill.\n",
        "You can code in the cell following the problem statement.\n",
        "\n",
        "Problem-1\n",
        "Your friend measures his body temperature using a thermometer and finds the\n",
        "reading to be 100 degree Farenheit. Can you please let us know the reading in Celsius scale?\n"
      ],
      "metadata": {
        "id": "J-4-hM4RuMhL"
      }
    },
    {
      "cell_type": "code",
      "source": [
        "# Your code goes here\n",
        "F = 100\n",
        "C = (F - 32)*(5/9)\n",
        "C"
      ],
      "metadata": {
        "colab": {
          "base_uri": "https://localhost:8080/"
        },
        "id": "dMmTU5tquQSf",
        "outputId": "883f7c84-ab6e-462b-dcbb-920bc3fbd850"
      },
      "execution_count": 1,
      "outputs": [
        {
          "output_type": "execute_result",
          "data": {
            "text/plain": [
              "37.77777777777778"
            ]
          },
          "metadata": {},
          "execution_count": 1
        }
      ]
    },
    {
      "cell_type": "markdown",
      "source": [
        "Problem-2\n",
        "The cost of producing x unit of item in a factory is y. Cost y is related\n",
        "to unit x by the following formula\n",
        "y= ax^2+bx+c where\n",
        "a, b, c are constants having value 2, 5, 1020 respectively.\n",
        "In this text (not in python language) ^ represents raised to the power.\n",
        "If management wants to produce 10,000 quantities of product, please let us know\n",
        "the average manufacturing cost for a single item."
      ],
      "metadata": {
        "id": "yeq_xwHduYav"
      }
    },
    {
      "cell_type": "code",
      "source": [
        "# Your code goes here\n",
        "a=2\n",
        "b=5\n",
        "c=1020\n",
        "\n",
        "x = 10000\n",
        "\n",
        "y = a*(x**2) + (b*x) + c\n",
        "y/10000"
      ],
      "metadata": {
        "colab": {
          "base_uri": "https://localhost:8080/"
        },
        "id": "eADUm5NUuTV5",
        "outputId": "b06123c0-8915-4b9d-e46f-5d9940171cb1"
      },
      "execution_count": 2,
      "outputs": [
        {
          "output_type": "execute_result",
          "data": {
            "text/plain": [
              "20005.102"
            ]
          },
          "metadata": {},
          "execution_count": 2
        }
      ]
    }
  ]
}